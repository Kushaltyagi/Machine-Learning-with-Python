{
  "nbformat": 4,
  "nbformat_minor": 0,
  "metadata": {
    "colab": {
      "provenance": []
    },
    "kernelspec": {
      "name": "python3",
      "display_name": "Python 3"
    },
    "language_info": {
      "name": "python"
    }
  },
  "cells": [
    {
      "cell_type": "markdown",
      "source": [
        "NumPy - Numerical Python\n",
        "\n",
        "Advantages of Numpy Arrays:\n",
        "  1. Allow Several Mathematical Operations\n",
        "  2. Faster Operations"
      ],
      "metadata": {
        "id": "eJKccIuWESdp"
      }
    },
    {
      "cell_type": "code",
      "execution_count": 4,
      "metadata": {
        "id": "yntpMhvdCKyU"
      },
      "outputs": [],
      "source": [
        "import numpy as np"
      ]
    },
    {
      "cell_type": "markdown",
      "source": [
        "List vs Numpy - Time Taken"
      ],
      "metadata": {
        "id": "Cc7zXyU__62V"
      }
    },
    {
      "cell_type": "code",
      "source": [
        "from time import process_time"
      ],
      "metadata": {
        "id": "LAqynQoe_rEL"
      },
      "execution_count": 5,
      "outputs": []
    },
    {
      "cell_type": "markdown",
      "source": [
        "Time Taken by a List"
      ],
      "metadata": {
        "id": "e6pEENDWCyPV"
      }
    },
    {
      "cell_type": "code",
      "source": [
        "python_list = [i for i in range(100000000)]\n",
        "start_time = process_time()\n",
        "python_list = [i + 5 for i in python_list]\n",
        "end_time = process_time()\n",
        "\n",
        "print(end_time - start_time)"
      ],
      "metadata": {
        "colab": {
          "base_uri": "https://localhost:8080/"
        },
        "id": "JwOByV8B_Bml",
        "outputId": "d34cc1f6-cdc9-414e-e9a6-e332a6397fe8"
      },
      "execution_count": 6,
      "outputs": [
        {
          "output_type": "stream",
          "name": "stdout",
          "text": [
            "5.399697238\n"
          ]
        }
      ]
    },
    {
      "cell_type": "markdown",
      "source": [
        "Time Taken by NumPy Array"
      ],
      "metadata": {
        "id": "C-zYhhIwE0Is"
      }
    },
    {
      "cell_type": "code",
      "source": [
        "np_array = np.array([i for i in range(100000000)])\n",
        "start_time = process_time()\n",
        "np_array += 5\n",
        "end_time = process_time()\n",
        "print(end_time - start_time)"
      ],
      "metadata": {
        "colab": {
          "base_uri": "https://localhost:8080/"
        },
        "id": "KbiTDckzDe4s",
        "outputId": "a474e908-8788-4862-edfd-34220524b191"
      },
      "execution_count": 7,
      "outputs": [
        {
          "output_type": "stream",
          "name": "stdout",
          "text": [
            "0.07908307600000342\n"
          ]
        }
      ]
    },
    {
      "cell_type": "markdown",
      "source": [
        "NumPy Arrays"
      ],
      "metadata": {
        "id": "BIPVJXirE4yh"
      }
    },
    {
      "cell_type": "code",
      "source": [
        "#list\n",
        "list1 = [1,2,3,4,5]\n",
        "print(list1)\n",
        "type(list1)"
      ],
      "metadata": {
        "colab": {
          "base_uri": "https://localhost:8080/"
        },
        "id": "8gqCNoUrE3g8",
        "outputId": "0dabeb30-98df-41c8-fa37-06503b689094"
      },
      "execution_count": 8,
      "outputs": [
        {
          "output_type": "stream",
          "name": "stdout",
          "text": [
            "[1, 2, 3, 4, 5]\n"
          ]
        },
        {
          "output_type": "execute_result",
          "data": {
            "text/plain": [
              "list"
            ]
          },
          "metadata": {},
          "execution_count": 8
        }
      ]
    },
    {
      "cell_type": "code",
      "source": [
        "np_array1 = np.array([1,2,3,4,5])\n",
        "print(np_array1)\n",
        "type(np_array1)"
      ],
      "metadata": {
        "colab": {
          "base_uri": "https://localhost:8080/"
        },
        "id": "GqHm_ydHFJlt",
        "outputId": "e8ee1f14-a614-486b-ea37-4ea61aecc55c"
      },
      "execution_count": 12,
      "outputs": [
        {
          "output_type": "stream",
          "name": "stdout",
          "text": [
            "[1 2 3 4 5]\n"
          ]
        },
        {
          "output_type": "execute_result",
          "data": {
            "text/plain": [
              "numpy.ndarray"
            ]
          },
          "metadata": {},
          "execution_count": 12
        }
      ]
    },
    {
      "cell_type": "markdown",
      "source": [
        "Mathematical operation on a np Array"
      ],
      "metadata": {
        "id": "NDPjh20peV5a"
      }
    },
    {
      "cell_type": "code",
      "source": [
        "# in Python list\n",
        "list1 = [1,2,3,4,5]\n",
        "list2 = [6,7,8,9,10]\n",
        "\n",
        "print(list1 + list2) # Concatenate or joins 2 lists"
      ],
      "metadata": {
        "colab": {
          "base_uri": "https://localhost:8080/"
        },
        "id": "cp7agzpneZzt",
        "outputId": "843d09c4-8966-4034-b220-941492ce96e8"
      },
      "execution_count": 14,
      "outputs": [
        {
          "output_type": "stream",
          "name": "stdout",
          "text": [
            "[1, 2, 3, 4, 5, 6, 7, 8, 9, 10]\n"
          ]
        }
      ]
    },
    {
      "cell_type": "code",
      "source": [
        "a = np.random.randint(0,10,(3,3))\n",
        "b = np.random.randint(11,20,(3,3))\n",
        "print(a)\n",
        "print(b)\n",
        "print(a + b)\n",
        "print(a - b)"
      ],
      "metadata": {
        "colab": {
          "base_uri": "https://localhost:8080/"
        },
        "id": "I4wnwXtUey7z",
        "outputId": "bacf77d3-e4a3-489a-a53b-7f4789ea630b"
      },
      "execution_count": 18,
      "outputs": [
        {
          "output_type": "stream",
          "name": "stdout",
          "text": [
            "[[1 9 3]\n",
            " [4 3 4]\n",
            " [0 7 8]]\n",
            "[[11 15 15]\n",
            " [16 13 19]\n",
            " [14 15 17]]\n",
            "[[12 24 18]\n",
            " [20 16 23]\n",
            " [14 22 25]]\n",
            "[[-10  -6 -12]\n",
            " [-12 -10 -15]\n",
            " [-14  -8  -9]]\n"
          ]
        }
      ]
    },
    {
      "cell_type": "code",
      "source": [
        "a = np.random.randint(0,10,(3,3))\n",
        "b = np.random.randint(11,20,(3,3))\n",
        "print(a)\n",
        "print(b)\n",
        "print(np.sum(a + b))\n",
        "print(np.add(a, b))"
      ],
      "metadata": {
        "colab": {
          "base_uri": "https://localhost:8080/"
        },
        "id": "pcH2gjU-eyg2",
        "outputId": "d73f7c11-ff89-4cdd-e7d2-793ec9d16863"
      },
      "execution_count": 21,
      "outputs": [
        {
          "output_type": "stream",
          "name": "stdout",
          "text": [
            "[[9 4 7]\n",
            " [8 9 9]\n",
            " [1 0 4]]\n",
            "[[12 15 11]\n",
            " [16 12 13]\n",
            " [16 16 16]]\n",
            "178\n",
            "[[21 19 18]\n",
            " [24 21 22]\n",
            " [17 16 20]]\n"
          ]
        }
      ]
    },
    {
      "cell_type": "markdown",
      "source": [
        "Array Manipulation"
      ],
      "metadata": {
        "id": "-Y9C5qMuf37S"
      }
    },
    {
      "cell_type": "code",
      "source": [
        "array = np.random.randint(0,10,(2, 3))\n",
        "print(array)\n",
        "print(array.shape)\n",
        "\n",
        "print(\"TRANSPOSE\")\n",
        "\n",
        "trans = np.transpose(array) # Transpose or array.T\n",
        "print(trans)\n",
        "print(trans.shape)"
      ],
      "metadata": {
        "colab": {
          "base_uri": "https://localhost:8080/"
        },
        "id": "-WLitaKzf3F3",
        "outputId": "51d5efe5-5e52-44f7-8d66-dcada75582c1"
      },
      "execution_count": 22,
      "outputs": [
        {
          "output_type": "stream",
          "name": "stdout",
          "text": [
            "[[4 5 8]\n",
            " [1 7 8]]\n",
            "(2, 3)\n",
            "TRANSPOSE\n",
            "[[4 1]\n",
            " [5 7]\n",
            " [8 8]]\n",
            "(3, 2)\n"
          ]
        }
      ]
    },
    {
      "cell_type": "code",
      "source": [
        "# Reshaping a array\n",
        "a = np.random.randint(0,10,(2,3))\n",
        "print(a)\n",
        "print(a.shape)\n",
        "\n",
        "print(\"RESHAPE\")\n",
        "\n",
        "b = a.reshape(3, 2)\n",
        "print(b)\n",
        "print(b.shape)"
      ],
      "metadata": {
        "colab": {
          "base_uri": "https://localhost:8080/"
        },
        "id": "PUwXYTN8geaV",
        "outputId": "4857d94f-88ab-48d1-a32b-3be8326e423a"
      },
      "execution_count": 23,
      "outputs": [
        {
          "output_type": "stream",
          "name": "stdout",
          "text": [
            "[[6 1 6]\n",
            " [7 3 7]]\n",
            "(2, 3)\n",
            "RESHAPE\n",
            "[[6 1]\n",
            " [6 7]\n",
            " [3 7]]\n",
            "(3, 2)\n"
          ]
        }
      ]
    },
    {
      "cell_type": "markdown",
      "source": [],
      "metadata": {
        "id": "Y6R_KOvOgcej"
      }
    }
  ]
}