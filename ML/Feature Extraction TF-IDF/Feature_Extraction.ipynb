{
  "nbformat": 4,
  "nbformat_minor": 0,
  "metadata": {
    "colab": {
      "provenance": []
    },
    "kernelspec": {
      "name": "python3",
      "display_name": "Python 3"
    },
    "language_info": {
      "name": "python"
    }
  },
  "cells": [
    {
      "cell_type": "markdown",
      "source": [
        "Mapping from textual data to reveal valued vectors is called feature extraction."
      ],
      "metadata": {
        "id": "ZnUbHl7-qeR0"
      }
    },
    {
      "cell_type": "markdown",
      "source": [
        "Bag Of Words (BOW) - List of unique words in the text corpus"
      ],
      "metadata": {
        "id": "qtJvmvnAq4Ux"
      }
    },
    {
      "cell_type": "markdown",
      "source": [
        "Term Frequency - Inverse Document Frequency (TF - IDF) -> To count the number of times each word appears in a document"
      ],
      "metadata": {
        "id": "TxsIOvpVrD1F"
      }
    },
    {
      "cell_type": "markdown",
      "source": [
        "Term Frequency (TF) = Number of times term t appears in a document / Number of terms in the document\n",
        "\n"
      ],
      "metadata": {
        "id": "Ed6ArSnksNT1"
      }
    },
    {
      "cell_type": "markdown",
      "source": [
        "Inverse Document Frequency (IDF) = log(N / n), where N is the number of documents and n is number of documents a term t has appeared in"
      ],
      "metadata": {
        "id": "lWQwMZDdsaIW"
      }
    },
    {
      "cell_type": "code",
      "execution_count": null,
      "metadata": {
        "id": "t18ZwzuRoDhS"
      },
      "outputs": [],
      "source": []
    }
  ]
}